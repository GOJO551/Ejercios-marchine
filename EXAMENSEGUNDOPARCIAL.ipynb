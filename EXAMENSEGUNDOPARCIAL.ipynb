{
 "cells": [
  {
   "cell_type": "markdown",
   "id": "0c6b492e-de7d-44ce-8f29-a4284e32ac82",
   "metadata": {},
   "source": [
    "\n",
    "## PAO25-25- Examen\n",
    "\n",
    "![logo](img/python_logo.png)\n",
    "*ESTUDIANTE: IVAN LISINTUÑA*\n",
    "<br>\n",
    "*link de git hub:https://github.com/GOJO551/Ejercios-marchine.git*"
   ]
  },
  {
   "cell_type": "code",
   "execution_count": 14,
   "id": "b9c9c25a-7848-4e5a-809a-dc7d7e0cd465",
   "metadata": {},
   "outputs": [],
   "source": [
    "import numpy as np\n",
    "import pandas as pd"
   ]
  },
  {
   "cell_type": "markdown",
   "id": "32ca50ec-b422-42b6-b83a-ce1df55d7162",
   "metadata": {},
   "source": [
    "## 01 - 1 pt\n",
    "- Dado un array de elementos, escribir una función, que reciba dicho array como parámetro de entrada y devuelva el elemento repetido. Usando plain Python, sin ninguna librería."
   ]
  },
  {
   "cell_type": "code",
   "execution_count": 7,
   "id": "652ae62b-5c81-4de1-a4c0-9d926a3a1418",
   "metadata": {},
   "outputs": [
    {
     "ename": "NameError",
     "evalue": "name 'repeated_element' is not defined",
     "output_type": "error",
     "traceback": [
      "\u001b[31m---------------------------------------------------------------------------\u001b[39m",
      "\u001b[31mNameError\u001b[39m                                 Traceback (most recent call last)",
      "\u001b[36mCell\u001b[39m\u001b[36m \u001b[39m\u001b[32mIn[7]\u001b[39m\u001b[32m, line 4\u001b[39m\n\u001b[32m      2\u001b[39m array_src = [\u001b[32m4\u001b[39m, \u001b[32m8\u001b[39m, \u001b[32m0\u001b[39m, \u001b[32m3\u001b[39m, \u001b[32m6\u001b[39m, \u001b[32m2\u001b[39m, \u001b[32m1\u001b[39m, \u001b[32m5\u001b[39m, \u001b[32m3\u001b[39m, \u001b[32m9\u001b[39m, \u001b[32m7\u001b[39m]\n\u001b[32m      3\u001b[39m expected_rep_element = \u001b[32m3\u001b[39m\n\u001b[32m----> \u001b[39m\u001b[32m4\u001b[39m rep_element = repeated_element(array_src) \u001b[38;5;66;03m# This calls your function repeated_element\u001b[39;00m\n\u001b[32m      5\u001b[39m \u001b[38;5;28;01massert\u001b[39;00m(expected_rep_element == rep_element)\n",
      "\u001b[31mNameError\u001b[39m: name 'repeated_element' is not defined"
     ]
    }
   ],
   "source": [
    "import math\n",
    "array_src = [4, 8, 0, 3, 6, 2, 1, 5, 3, 9, 7]\n",
    "expected_rep_element = 3\n",
    "rep_element = repeated_element(array_src) # This calls your function repeated_element\n",
    "assert(expected_rep_element == rep_element)  # This will fail if the element is not found correctly"
   ]
  },
  {
   "cell_type": "code",
   "execution_count": 1,
   "id": "f0637e93-dfdc-4e8e-90ad-538ca6782413",
   "metadata": {},
   "outputs": [],
   "source": [
    "# Your solution HERE !!!!"
   ]
  },
  {
   "cell_type": "code",
   "execution_count": 6,
   "id": "18305e48-4209-487c-971d-12a948f4dd5f",
   "metadata": {},
   "outputs": [],
   "source": [
    "def rep_element(init, step):\n",
    "    while True:\n",
    "        yield arrays_src\n",
    "        arrys_src+= expexted_rep_elemnt"
   ]
  },
  {
   "cell_type": "code",
   "execution_count": 17,
   "id": "5489cdcf-05f5-4018-9990-9f958e2b679d",
   "metadata": {},
   "outputs": [
    {
     "name": "stdout",
     "output_type": "stream",
     "text": [
      "Elemento repetido: 3\n"
     ]
    }
   ],
   "source": [
    "# esto es hecho por chat\n",
    "def repeated_element(arr):\n",
    "    seen = set()  # conjunto para guardar elementos ya vistos\n",
    "    for elem in arr:\n",
    "        if elem in seen:\n",
    "            return elem  # si ya lo vimos, lo devolvemos\n",
    "        seen.add(elem)\n",
    "    return None  # si no hay repetidos\n",
    "\n",
    "# Prueba con el array dado\n",
    "array_src = [4, 8, 0, 3, 6, 2, 1, 5, 3, 9, 7]\n",
    "expected_rep_element = 3\n",
    "rep_element = repeated_element(array_src)\n",
    "\n",
    "print(\"Elemento repetido:\", rep_element)\n",
    "\n",
    "assert(expected_rep_element == rep_element)\n",
    "\n"
   ]
  },
  {
   "cell_type": "markdown",
   "id": "09f2f584-2735-4f9b-a91c-135080ac4562",
   "metadata": {},
   "source": [
    "## 02 - 1pt\n",
    "- Genera una matriz con valores aleatorios de 0 a 100 de dimensiones 16x16\n",
    "- Calcula los siguentes estadísticos en la matriz anterior, por fila (el resultado de cada uno debe ser un array de dimensiones 1x16)\n",
    "  - Suma de los elementos de cada fila\n",
    "  - Media de los elementos de cada fila\n",
    "  - Valores mínimos de cada fila\n",
    "  - Valores máximos de cada fila"
   ]
  },
  {
   "cell_type": "code",
   "execution_count": 18,
   "id": "1bad6d8b-d43c-4307-af2f-f1e371d0e360",
   "metadata": {},
   "outputs": [
    {
     "name": "stdout",
     "output_type": "stream",
     "text": [
      "Matriz:\n",
      " [[ 92  89  46  65  50  18  50  43   2  58  87  38  13  19  13  24]\n",
      " [ 48  25   6  95  10  28  37  18  45  65  10  32  94  17  68  30]\n",
      " [ 96  55  15  82  14  66  99  12  22  58  33  56  50  13  83  11]\n",
      " [ 66  96  62   8   7   6  39  72  13  68  60  98  36 100  25  68]\n",
      " [ 62  10  97  15  49  10  38  69   4   6  13  85  39  36  29  23]\n",
      " [ 30  31  40  41  75  86  24  30  15  26  14  89  81  92  52  32]\n",
      " [ 76  73  45  21  60  72  42  34  12   0  99  50  74  92   6  90]\n",
      " [ 24   4  53  12  32  70  39  19  10  15  21  86  29   4  90  28]\n",
      " [ 48  53  37  83  25  74  89  15  61  18  99  79  15  52   7  91]\n",
      " [ 71  67  70  35  11  27  22  73  12 100  69 100  48  16  23  13]\n",
      " [ 94  15  33  15  82  52  88  48  52  59  73  65  77  18  53  93]\n",
      " [ 92  82  43  46  84  25  96  63  28  12  39  95  24  15  79  10]\n",
      " [ 71  62  96  50  30  90  84  95  73   6  71  89  46  64  10   6]\n",
      " [ 26  94  26  66  77  47  25  86  51  98  64  25  31  62  83  47]\n",
      " [ 97  67  97  38  43  47  71  96  18  12  86  29  82   9  82  60]\n",
      " [ 83   7  21  76  18  87  47  82  27  10  60  30  89  85  16  23]]\n",
      "\n",
      "Suma por fila: [707 628 765 824 585 758 846 536 846 757 917 833 943 908 934 761]\n",
      "\n",
      "Media por fila: [44.1875 39.25   47.8125 51.5    36.5625 47.375  52.875  33.5    52.875\n",
      " 47.3125 57.3125 52.0625 58.9375 56.75   58.375  47.5625]\n",
      "\n",
      "Mínimos por fila: [ 2  6 11  6  4 14  0  4  7 11 15 10  6 25  9  7]\n",
      "\n",
      "Máximos por fila: [ 92  95  99 100  97  92  99  90  99 100  94  96  96  98  97  89]\n"
     ]
    }
   ],
   "source": [
    "matriz = np.random.randint(0, 101, size=(16, 16))\n",
    "suma_filas = matriz.sum(axis=1)\n",
    "media_filas = matriz.mean(axis=1)\n",
    "min_filas = matriz.min(axis=1)\n",
    "max_filas = matriz.max(axis=1)\n",
    "print(\"Matriz:\\n\", matriz)\n",
    "print(\"\\nSuma por fila:\", suma_filas)\n",
    "print(\"\\nMedia por fila:\", media_filas)\n",
    "print(\"\\nMínimos por fila:\", min_filas)\n",
    "print(\"\\nMáximos por fila:\", max_filas)\n"
   ]
  },
  {
   "cell_type": "markdown",
   "id": "a10e9910-581f-4332-a8cd-e746c01fff0a",
   "metadata": {},
   "source": [
    "## 03 - 1pt\n",
    "\n",
    "- Generar un dataframe de 3x4 dimensiones con valores númericos aleatorios [0,10]\n",
    "- Darle un índice semántico alfanumérico\n",
    "- Aplicarle una función lambda que obtenga la diferencia entre el máximo y mínimo de cada fila"
   ]
  },
  {
   "cell_type": "code",
   "execution_count": 19,
   "id": "a695c6ab-f6cf-4fc2-992b-ed095a082815",
   "metadata": {},
   "outputs": [
    {
     "name": "stdout",
     "output_type": "stream",
     "text": [
      "DataFrame original:\n",
      "          0         1         2         3\n",
      "A  5.832974  6.797043  8.566209  7.453277\n",
      "B  9.204913  9.638071  3.856636  1.615454\n",
      "C  2.834891  6.184227  8.118141  7.798673\n",
      "\n",
      "Diferencia entre máximo y mínimo por fila:\n",
      "A    2.733235\n",
      "B    8.022616\n",
      "C    5.283250\n",
      "dtype: float64\n"
     ]
    }
   ],
   "source": [
    "df = pd.DataFrame(np.random.uniform(0, 10, size=(3,4)))\n",
    "df.index = ['A', 'B', 'C']\n",
    "print(\"DataFrame original:\")\n",
    "print(df)\n",
    "diferencia = df.apply(lambda fila: fila.max() - fila.min(), axis=1)\n",
    "print(\"\\nDiferencia entre máximo y mínimo por fila:\")\n",
    "print(diferencia)\n"
   ]
  },
  {
   "cell_type": "markdown",
   "id": "d7c9a60e-528e-4843-947b-fafd7f5e2c97",
   "metadata": {},
   "source": [
    "## 04 - 1pt\n",
    "- Crear un array de NumPy de dimensiones 8x5, con números enteros aleatorios en el rango [-100, 100]\n",
    "- Ejecutar en este orden\n",
    "\n",
    "  1. Reemplazar los valores de todos aquellos números múltiplos de 5 por 100\n",
    "  2. Reemplazar los valores de todos aquellos números múltiplos de 3 por Nan\n",
    "   \n",
    "  2. Averiguar cuantos elementos tienen Nan por fila\n",
    "  3. Reemplazar los valores de Nan por 0"
   ]
  },
  {
   "cell_type": "code",
   "execution_count": 21,
   "id": "ef105c6f-7c94-4cfe-8886-7d9219dee9b7",
   "metadata": {},
   "outputs": [
    {
     "name": "stdout",
     "output_type": "stream",
     "text": [
      "Array original:\n",
      "[[ 72.   0.  75. -38. -57.]\n",
      " [ 16. -56.  92.  51.   5.]\n",
      " [ 66.  46. -41. -84.   7.]\n",
      " [-10. -90.  29.  61. -80.]\n",
      " [-58.  10.  75.  30.  -2.]\n",
      " [ 90. -96. -46.   9.  -4.]\n",
      " [ 75.  92.   5. -41.  32.]\n",
      " [-84.  47.  93.  88. -10.]]\n",
      "\n",
      "Array después de reemplazos:\n",
      "[[ nan 100. 100. -38.  nan]\n",
      " [ 16. -56.  92.  nan 100.]\n",
      " [ nan  46. -41.  nan   7.]\n",
      " [100. 100.  29.  61. 100.]\n",
      " [-58. 100. 100. 100.  -2.]\n",
      " [100.  nan -46.  nan  -4.]\n",
      " [100.  92. 100. -41.  32.]\n",
      " [ nan  47.  nan  88. 100.]]\n",
      "\n",
      "Cantidad de NaN por fila:\n",
      "[2 1 2 0 0 2 0 2]\n",
      "\n",
      "Array final con NaN reemplazados por 0:\n",
      "[[  0. 100. 100. -38.   0.]\n",
      " [ 16. -56.  92.   0. 100.]\n",
      " [  0.  46. -41.   0.   7.]\n",
      " [100. 100.  29.  61. 100.]\n",
      " [-58. 100. 100. 100.  -2.]\n",
      " [100.   0. -46.   0.  -4.]\n",
      " [100.  92. 100. -41.  32.]\n",
      " [  0.  47.   0.  88. 100.]]\n"
     ]
    }
   ],
   "source": [
    "#hecho por chat\n",
    "import numpy as np\n",
    "\n",
    "# 1. Crear array 8x5 con enteros aleatorios entre -100 y 100\n",
    "arr = np.random.randint(-100, 101, size=(8,5)).astype(float)  # paso a float para poder usar NaN\n",
    "\n",
    "print(\"Array original:\")\n",
    "print(arr)\n",
    "\n",
    "# 2. Reemplazar múltiplos de 5 por 100\n",
    "arr[arr % 5 == 0] = 100\n",
    "\n",
    "# 3. Reemplazar múltiplos de 3 por NaN (ojo que los múltiplos de 15 ya serán 100, así que no cambiarán)\n",
    "# Para que no se pisen, primero los múltiplos de 5 ya cambiados a 100 no serán múltiplos de 3,\n",
    "# porque 100 % 3 != 0. Así que podemos hacer:\n",
    "arr[(arr % 3 == 0) & (arr != 100)] = np.nan\n",
    "\n",
    "print(\"\\nArray después de reemplazos:\")\n",
    "print(arr)\n",
    "\n",
    "# 4. Contar NaN por fila\n",
    "nan_por_fila = np.isnan(arr).sum(axis=1)\n",
    "print(\"\\nCantidad de NaN por fila:\")\n",
    "print(nan_por_fila)\n",
    "\n",
    "# 5. Reemplazar NaN por 0\n",
    "arr[np.isnan(arr)] = 0\n",
    "\n",
    "print(\"\\nArray final con NaN reemplazados por 0:\")\n",
    "print(arr)\n"
   ]
  },
  {
   "cell_type": "markdown",
   "id": "75975039-2113-458d-8d37-1f84ce75d203",
   "metadata": {},
   "source": [
    "## 05 - 1pt\n",
    "- Crear una función que reciba una lista de strings y devuelva una serie de pandas, y convierta el primer y último carácter de la palabra de cada elemento de la serie a mayúsculas"
   ]
  },
  {
   "cell_type": "code",
   "execution_count": 23,
   "id": "78d80454-5703-4804-9dd2-cd5b200a2e27",
   "metadata": {},
   "outputs": [],
   "source": [
    "languages = ['python', 'php', 'java', 'javascript', 'c++', 'sql']\n",
    "expected_output = pd.Series(['PythoN', 'PhP', 'JavA', 'JavascripT', 'C++', 'SqL'])\n",
    "output = first_last_uppercase(languages)  # This calls your function first_last_uppercase\n",
    "assert(expected_output.equals(output))  # This will fail if the two lists are different"
   ]
  },
  {
   "cell_type": "code",
   "execution_count": 33,
   "id": "15033bc2-c812-4073-8ec0-a2971a219094",
   "metadata": {},
   "outputs": [
    {
     "name": "stdout",
     "output_type": "stream",
     "text": [
      "0        PythoN\n",
      "1           PhP\n",
      "2          JavA\n",
      "3    JavascripT\n",
      "4           C++\n",
      "5           SqL\n",
      "dtype: object\n"
     ]
    }
   ],
   "source": [
    "#hexcho por chat\n",
    "def first_last_uppercase(lst):\n",
    "    # Crear la serie a partir de la lista\n",
    "    serie = pd.Series(lst)\n",
    "    \n",
    "    # Función auxiliar para modificar cada string\n",
    "    def modificar_palabra(palabra):\n",
    "        if len(palabra) == 1:\n",
    "            # Si la palabra es un solo carácter, solo mayúscula ese carácter\n",
    "            return palabra.upper()\n",
    "        else:\n",
    "            # Mayúscula el primer y último carácter, y deja el resto igual\n",
    "            return palabra[0].upper() + palabra[1:-1] + palabra[-1].upper()\n",
    "    \n",
    "    # Aplicar la función a cada elemento de la serie\n",
    "    serie_modificada = serie.apply(modificar_palabra)\n",
    "    return serie_modificada\n",
    "print(output)\n",
    "\n",
    "assert(expected_output.equals(output))\n"
   ]
  },
  {
   "cell_type": "markdown",
   "id": "da4aee6f-4f3e-48f1-bb04-463d057c37df",
   "metadata": {},
   "source": [
    "## 07 - 1pt\n",
    "- La serie de Fibonacci es una sucesión de números, en la cual cada número es la suma de los dos anteriores. Los dos primeros son siempre 0 y 1.\n",
    "  - $F_0 = 0$\n",
    "  - $F_1 = 1$\n",
    "  - $F_n = F_{n-1} + F_{n-2}$\n",
    "- Crear un generador infinito de números de Fibonacci."
   ]
  },
  {
   "cell_type": "code",
   "execution_count": 26,
   "id": "8997cc42-fe37-4285-a294-2d97959d5796",
   "metadata": {},
   "outputs": [],
   "source": [
    "fibo = [0,1,1,2,3,5,8,13,21,34,55,89,144,233,377,610,987,1597]\n",
    "g = fibonacci_generator()  # This calls tour function fibonacci_generator\n",
    "expected_output = [next(g) for n in range(len(fibo))]\n",
    "assert(fibo == expected_output)  # This will fail if the output is not as expected"
   ]
  },
  {
   "cell_type": "code",
   "execution_count": 29,
   "id": "418988f7-f739-48fb-9578-50191db6e8c3",
   "metadata": {},
   "outputs": [
    {
     "name": "stdout",
     "output_type": "stream",
     "text": [
      "[0, 1, 1, 2, 3, 5, 8, 13, 21, 34, 55, 89, 144, 233, 377, 610, 987, 1597]\n"
     ]
    }
   ],
   "source": [
    "#hecho por chat\n",
    "def fibonacci_generator():\n",
    "    a, b = 0, 1\n",
    "    while True:\n",
    "        yield a\n",
    "        a, b = b, a + b\n",
    "\n",
    "# Prueba:\n",
    "fibo = [0,1,1,2,3,5,8,13,21,34,55,89,144,233,377,610,987,1597]\n",
    "g = fibonacci_generator()\n",
    "expected_output = [next(g) for _ in range(len(fibo))]\n",
    "\n",
    "print(expected_output)\n",
    "assert(fibo == expected_output)\n"
   ]
  },
  {
   "cell_type": "markdown",
   "id": "00569be4-a8d4-48d5-827d-838f0f654a48",
   "metadata": {},
   "source": [
    "## 07 - 4pt\n",
    "- Crear una lista de meses de Enero a Diciembre (eje X)\n",
    "- Generar datos aleatorios para el eje Y, hacerlo 3 veces distintas (Y0, Y1 e Y2)\n",
    "- Representar las 3 secuencias de datos aleatorios en una sola figura usando matplotlib\n",
    "- Añadir una leyenda para poder identificar cada secuencia\n",
    "- Nombrar las 3 secuencias de la siguiente manera (\"Facebook\", \"Twitter\", \"Instagram\")\n",
    "- Añadir un título y nombres a los dos ejes\n",
    "- Añadir una anotación (texto y flecha) a uno de los gráficos"
   ]
  },
  {
   "cell_type": "code",
   "execution_count": 28,
   "id": "fc783ef7-522b-4659-b2b1-6e725932c9a7",
   "metadata": {},
   "outputs": [
    {
     "ename": "ModuleNotFoundError",
     "evalue": "No module named 'matplotlib'",
     "output_type": "error",
     "traceback": [
      "\u001b[31m---------------------------------------------------------------------------\u001b[39m",
      "\u001b[31mModuleNotFoundError\u001b[39m                       Traceback (most recent call last)",
      "\u001b[36mCell\u001b[39m\u001b[36m \u001b[39m\u001b[32mIn[28]\u001b[39m\u001b[32m, line 2\u001b[39m\n\u001b[32m      1\u001b[39m \u001b[38;5;28;01mimport\u001b[39;00m\u001b[38;5;250m \u001b[39m\u001b[34;01mnumpy\u001b[39;00m\u001b[38;5;250m \u001b[39m\u001b[38;5;28;01mas\u001b[39;00m\u001b[38;5;250m \u001b[39m\u001b[34;01mnp\u001b[39;00m\n\u001b[32m----> \u001b[39m\u001b[32m2\u001b[39m \u001b[38;5;28;01mimport\u001b[39;00m\u001b[38;5;250m \u001b[39m\u001b[34;01mmatplotlib\u001b[39;00m\u001b[34;01m.\u001b[39;00m\u001b[34;01mpyplot\u001b[39;00m\u001b[38;5;250m \u001b[39m\u001b[38;5;28;01mas\u001b[39;00m\u001b[38;5;250m \u001b[39m\u001b[34;01mplt\u001b[39;00m\n\u001b[32m      4\u001b[39m \u001b[38;5;66;03m# 1. Lista de meses (eje X)\u001b[39;00m\n\u001b[32m      5\u001b[39m meses = [\u001b[33m'\u001b[39m\u001b[33mEnero\u001b[39m\u001b[33m'\u001b[39m, \u001b[33m'\u001b[39m\u001b[33mFebrero\u001b[39m\u001b[33m'\u001b[39m, \u001b[33m'\u001b[39m\u001b[33mMarzo\u001b[39m\u001b[33m'\u001b[39m, \u001b[33m'\u001b[39m\u001b[33mAbril\u001b[39m\u001b[33m'\u001b[39m, \u001b[33m'\u001b[39m\u001b[33mMayo\u001b[39m\u001b[33m'\u001b[39m, \u001b[33m'\u001b[39m\u001b[33mJunio\u001b[39m\u001b[33m'\u001b[39m, \n\u001b[32m      6\u001b[39m          \u001b[33m'\u001b[39m\u001b[33mJulio\u001b[39m\u001b[33m'\u001b[39m, \u001b[33m'\u001b[39m\u001b[33mAgosto\u001b[39m\u001b[33m'\u001b[39m, \u001b[33m'\u001b[39m\u001b[33mSeptiembre\u001b[39m\u001b[33m'\u001b[39m, \u001b[33m'\u001b[39m\u001b[33mOctubre\u001b[39m\u001b[33m'\u001b[39m, \u001b[33m'\u001b[39m\u001b[33mNoviembre\u001b[39m\u001b[33m'\u001b[39m, \u001b[33m'\u001b[39m\u001b[33mDiciembre\u001b[39m\u001b[33m'\u001b[39m]\n",
      "\u001b[31mModuleNotFoundError\u001b[39m: No module named 'matplotlib'"
     ]
    }
   ],
   "source": [
    "import numpy as np\n",
    "import matplotlib.pyplot as plt\n",
    "\n",
    "# 1. Lista de meses (eje X)\n",
    "meses = ['Enero', 'Febrero', 'Marzo', 'Abril', 'Mayo', 'Junio', \n",
    "         'Julio', 'Agosto', 'Septiembre', 'Octubre', 'Noviembre', 'Diciembre']\n",
    "\n",
    "# 2. Generar 3 secuencias de datos aleatorios para Y\n",
    "np.random.seed(42)  # para reproducibilidad\n",
    "Y0 = np.random.randint(50, 200, size=12)\n",
    "Y1 = np.random.randint(30, 150, size=12)\n",
    "Y2 = np.random.randint(80, 250, size=12)\n",
    "\n",
    "# 3. Crear la figura y el eje\n",
    "fig, ax = plt.subplots(figsize=(12, 6))\n",
    "\n",
    "# 4. Graficar las 3 secuencias\n",
    "ax.plot(meses, Y0, marker='o', label='Facebook')\n",
    "ax.plot(meses, Y1, marker='s', label='Twitter')\n",
    "ax.plot(meses, Y2, marker='^', label='Instagram')\n",
    "\n",
    "# 5. Añadir título y nombres a los ejes\n",
    "ax.set_title('Datos de Redes Sociales por Mes')\n",
    "ax.set_xlabel('Meses')\n",
    "ax.set_ylabel('Número de Interacciones')\n",
    "\n",
    "# 6. Añadir leyenda\n",
    "ax.legend()\n",
    "\n",
    "# 7. Añadir anotación (flecha y texto) en la serie de Facebook, por ejemplo en el mes de Mayo\n",
    "mes_anotacion = 'Mayo'\n",
    "indice_mayo = meses.index(mes_anotacion)\n",
    "valor_mayo = Y0[indice_mayo]\n",
    "\n",
    "ax.annotate('Pico en Mayo',\n",
    "            xy=(indice_mayo, valor_mayo),  # punto a señalar\n",
    "            xytext=(indice_mayo + 1, valor_mayo + 40),  # posición del texto\n",
    "            arrowprops=dict(facecolor='black', shrink=0.05),\n",
    "            fontsize=12,\n",
    "            ha='left')\n",
    "\n",
    "# Mejorar visualización rotando etiquetas x\n",
    "plt.xticks(rotation=45)\n",
    "\n",
    "plt.tight_layout()\n",
    "plt.show()\n"
   ]
  },
  {
   "cell_type": "code",
   "execution_count": null,
   "id": "9bece114-d28b-41cb-86d7-e7d6b36438ed",
   "metadata": {},
   "outputs": [],
   "source": []
  }
 ],
 "metadata": {
  "kernelspec": {
   "display_name": "Python [conda env:IVAN]",
   "language": "python",
   "name": "conda-env-IVAN-py"
  },
  "language_info": {
   "codemirror_mode": {
    "name": "ipython",
    "version": 3
   },
   "file_extension": ".py",
   "mimetype": "text/x-python",
   "name": "python",
   "nbconvert_exporter": "python",
   "pygments_lexer": "ipython3",
   "version": "3.13.5"
  }
 },
 "nbformat": 4,
 "nbformat_minor": 5
}
