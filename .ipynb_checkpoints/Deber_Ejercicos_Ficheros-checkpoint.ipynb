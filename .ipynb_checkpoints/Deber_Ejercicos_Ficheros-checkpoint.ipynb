{
 "cells": [
  {
   "cell_type": "markdown",
   "id": "caf3eaf6-ee95-4a1f-90da-69a663fff26f",
   "metadata": {},
   "source": [
    "<img src=\"img/Recurso-26.png\" width=\"200\">\n",
    "\n",
    "## 01MIAR - Ficheros - Ejercicios Deber\n",
    "\n",
    "![logo](img/python_logo.png)\n",
    "\n",
    "*Ivan Lisintuña*"
   ]
  },
  {
   "cell_type": "markdown",
   "id": "2f622505-1a84-4497-bf97-b91aa0d3c309",
   "metadata": {},
   "source": [
    "## Ejercicios"
   ]
  },
  {
   "cell_type": "markdown",
   "id": "b8a6ee6e-545c-49f6-b27d-edce5f85e75f",
   "metadata": {},
   "source": [
    "1. Escribe una función que reciba una ruta de un fichero de texto y una cadena de caracteres a buscar y determine si la cadena aparece en el fichero."
   ]
  },
  {
   "cell_type": "code",
   "execution_count": 14,
   "id": "148869c3-37d2-4e9f-b855-9a970df70bb6",
   "metadata": {},
   "outputs": [
    {
     "name": "stdout",
     "output_type": "stream",
     "text": [
      "La palabra Phython si se encuentra en el archivo\n"
     ]
    }
   ],
   "source": [
    "# Función que busca si una cadena está dentro del contenido de un archivo\n",
    "def buscar_cadena(ruta, cadena):\n",
    "    try:\n",
    "        # Abrimos y leemos todo el contenido del archivo y comprobamos si la cadena está presente\n",
    "        return cadena in open(ruta, encoding='utf-8').read()\n",
    "    except:\n",
    "        # Si ocurre cualquier error (como que el archivo no exista), devolvemos False\n",
    "        return False\n",
    "\n",
    "# Llamamos a la función y mostramos si la cadena está o no en el archivo\n",
    "print(\"La palabra Phython si se encuentra en el archivo\" if buscar_cadena(\"res/archivo.txt\", \"phython\") else \"La palabra no se encuentra\")\n"
   ]
  },
  {
   "cell_type": "markdown",
   "id": "2b7008c7-8726-4426-8cdf-41dfcf0a3c52",
   "metadata": {},
   "source": [
    "2. Escribe una función que reciba una lista, una ruta destino y un número *n*. La función debe crear un fichero en la ruta especificada. El contenido del fichero serán los primeros *n* elementos de la lista. La función debe controlar de manera apropiada los posibles valores de *n* que estén fuera de rango."
   ]
  },
  {
   "cell_type": "code",
   "execution_count": 15,
   "id": "70e9458b-bb64-44a0-a9ff-8f9bff464e5e",
   "metadata": {},
   "outputs": [
    {
     "name": "stdout",
     "output_type": "stream",
     "text": [
      "Archivo creado.\n"
     ]
    }
   ],
   "source": [
    "# Función que escribe los primeros 'n' elementos de una lista en un archivo\n",
    "def escribir_elementos(lista, ruta, n):\n",
    "    try:\n",
    "        # Abrimos el archivo en modo escritura con codificación UTF-8\n",
    "        with open(ruta, 'w', encoding='utf-8') as f:\n",
    "            # Escribimos cada elemento seguido de un salto de línea\n",
    "            f.writelines(str(e) + '\\n' for e in lista[:n])\n",
    "        # Mensaje si todo salió bien\n",
    "        print(\"Archivo creado.\")\n",
    "    except:\n",
    "        # Mensaje si ocurre un error (por ejemplo, si la ruta no existe)\n",
    "        print(\"Error al escribir.\")\n",
    "\n",
    "# Llamamos a la función con una lista y escribimos los primeros 3 elementos\n",
    "escribir_elementos(['manzana', 'banana', 'pera'], \"res/frutas_s.txt\", 3)\n"
   ]
  },
  {
   "cell_type": "markdown",
   "id": "f81e8c9a-b1cf-40cc-b965-7edd9eda360c",
   "metadata": {},
   "source": [
    "3. Escribe una función que reciba una ruta de un fichero de texto devuelva un diccionario con la frecuencia de aparición de cada palabra. Ejemplo: un fichero que contenga la frase 'es mejor que venga que que no venga' devolverá el siguiente diccionario: {'es' : 1, 'mejor' : 1, 'que' : 3, 'venga' : 2, 'no' : 1}. Para dividir un string en palabras puedes hacer uso del método *split*."
   ]
  },
  {
   "cell_type": "code",
   "execution_count": 16,
   "id": "8a657b23-698a-430c-9f0d-54e32454fb72",
   "metadata": {},
   "outputs": [
    {
     "name": "stdout",
     "output_type": "stream",
     "text": [
      "'es': 1\n",
      "'mejor': 1\n",
      "'que': 3\n",
      "'venga': 2\n",
      "'no': 1\n"
     ]
    }
   ],
   "source": [
    "# Función que cuenta cuántas veces aparece cada palabra en un archivo\n",
    "def contar_palabras(ruta):\n",
    "    try:\n",
    "        # Importamos el contador de palabras del módulo collections\n",
    "        from collections import Counter\n",
    "        # Leemos el archivo, convertimos a minúsculas y separamos en palabras\n",
    "        texto = open(ruta, encoding='utf-8').read().lower().split()\n",
    "        # Contamos cuántas veces aparece cada palabra\n",
    "        return Counter(texto)\n",
    "    except:\n",
    "        # Si hay un error, devolvemos un diccionario vacío\n",
    "        return {}\n",
    "\n",
    "# Mostramos en pantalla las palabras y cuántas veces aparecen\n",
    "for palabra, cuenta in contar_palabras(\"res/texto_prueba.txt\").items():\n",
    "    print(f\"'{palabra}': {cuenta}\")"
   ]
  },
  {
   "cell_type": "code",
   "execution_count": null,
   "id": "883b49be-a8e6-4085-9523-709d743b0211",
   "metadata": {},
   "outputs": [],
   "source": []
  }
 ],
 "metadata": {
  "kernelspec": {
   "display_name": "Python 3 (ipykernel)",
   "language": "python",
   "name": "python3"
  },
  "language_info": {
   "codemirror_mode": {
    "name": "ipython",
    "version": 3
   },
   "file_extension": ".py",
   "mimetype": "text/x-python",
   "name": "python",
   "nbconvert_exporter": "python",
   "pygments_lexer": "ipython3",
   "version": "3.13.5"
  }
 },
 "nbformat": 4,
 "nbformat_minor": 5
}
